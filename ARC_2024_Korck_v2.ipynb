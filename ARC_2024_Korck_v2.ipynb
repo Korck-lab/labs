{
  "metadata": {
    "kernelspec": {
      "display_name": "Python 3",
      "name": "python3"
    },
    "language_info": {
      "name": "python",
      "version": "3.10.13",
      "mimetype": "text/x-python",
      "codemirror_mode": {
        "name": "ipython",
        "version": 3
      },
      "pygments_lexer": "ipython3",
      "nbconvert_exporter": "python",
      "file_extension": ".py"
    },
    "kaggle": {
      "accelerator": "none",
      "dataSources": [
        {
          "sourceId": 67357,
          "databundleVersionId": 8810484,
          "sourceType": "competition"
        }
      ],
      "dockerImageVersionId": 30732,
      "isInternetEnabled": false,
      "language": "python",
      "sourceType": "notebook",
      "isGpuEnabled": false
    },
    "colab": {
      "provenance": [],
      "include_colab_link": true
    }
  },
  "nbformat_minor": 0,
  "nbformat": 4,
  "cells": [
    {
      "cell_type": "markdown",
      "metadata": {
        "id": "view-in-github",
        "colab_type": "text"
      },
      "source": [
        "<a href=\"https://colab.research.google.com/github/Korck-lab/labs/blob/production/ARC_2024_Korck_v2.ipynb\" target=\"_parent\"><img src=\"https://colab.research.google.com/assets/colab-badge.svg\" alt=\"Open In Colab\"/></a>"
      ]
    },
    {
      "source": [
        "\n",
        "# IMPORTANT: RUN THIS CELL IN ORDER TO IMPORT YOUR KAGGLE DATA SOURCES\n",
        "# TO THE CORRECT LOCATION (/kaggle/input) IN YOUR NOTEBOOK,\n",
        "# THEN FEEL FREE TO DELETE THIS CELL.\n",
        "# NOTE: THIS NOTEBOOK ENVIRONMENT DIFFERS FROM KAGGLE'S PYTHON\n",
        "# ENVIRONMENT SO THERE MAY BE MISSING LIBRARIES USED BY YOUR\n",
        "# NOTEBOOK.\n",
        "\n",
        "import os\n",
        "import sys\n",
        "from tempfile import NamedTemporaryFile\n",
        "from urllib.request import urlopen\n",
        "from urllib.parse import unquote, urlparse\n",
        "from urllib.error import HTTPError\n",
        "from zipfile import ZipFile\n",
        "import tarfile\n",
        "import shutil\n",
        "\n",
        "CHUNK_SIZE = 40960\n",
        "DATA_SOURCE_MAPPING = 'arc-prize-2024:https%3A%2F%2Fstorage.googleapis.com%2Fkaggle-competitions-data%2Fkaggle-v2%2F67357%2F8810484%2Fbundle%2Farchive.zip%3FX-Goog-Algorithm%3DGOOG4-RSA-SHA256%26X-Goog-Credential%3Dgcp-kaggle-com%2540kaggle-161607.iam.gserviceaccount.com%252F20240618%252Fauto%252Fstorage%252Fgoog4_request%26X-Goog-Date%3D20240618T110223Z%26X-Goog-Expires%3D259200%26X-Goog-SignedHeaders%3Dhost%26X-Goog-Signature%3D7d91c9dadbe795209a384c94cbfab4ea28c000c13064e9e5e230ac8925a9cfbe335aaa9468036a3b5269e4fa96d5a9b9103d4da65d99e9489f03b88e29f4240b259d179680a249aee0ae4e511e09cad6b061bf840688b9296bc8e0538e8042961fb1b0ee164244f7a33f862d8f2ec41b28264209ef06f9118ae173dd6a34eefd5221078f5dd2dda3f8776555e6e3fbbb6a1fb46f7be3635f73171d92c4651c693afc400efc7e14bf6bbec5898f952a3577f03084a045984aa7cdecd14de2adeba00380a185afea70223180c887c7c25383743d43a9e15d1f59f89e1f5079dcab062a862be2e8a7e8ff8c163a76f39709dc7381648cbd50ef6adc67f3f87cfc7d'\n",
        "\n",
        "KAGGLE_INPUT_PATH='/kaggle/input'\n",
        "KAGGLE_WORKING_PATH='/kaggle/working'\n",
        "KAGGLE_SYMLINK='kaggle'\n",
        "\n",
        "!umount /kaggle/input/ 2> /dev/null\n",
        "shutil.rmtree('/kaggle/input', ignore_errors=True)\n",
        "os.makedirs(KAGGLE_INPUT_PATH, 0o777, exist_ok=True)\n",
        "os.makedirs(KAGGLE_WORKING_PATH, 0o777, exist_ok=True)\n",
        "\n",
        "try:\n",
        "  os.symlink(KAGGLE_INPUT_PATH, os.path.join(\"..\", 'input'), target_is_directory=True)\n",
        "except FileExistsError:\n",
        "  pass\n",
        "try:\n",
        "  os.symlink(KAGGLE_WORKING_PATH, os.path.join(\"..\", 'working'), target_is_directory=True)\n",
        "except FileExistsError:\n",
        "  pass\n",
        "\n",
        "for data_source_mapping in DATA_SOURCE_MAPPING.split(','):\n",
        "    directory, download_url_encoded = data_source_mapping.split(':')\n",
        "    download_url = unquote(download_url_encoded)\n",
        "    filename = urlparse(download_url).path\n",
        "    destination_path = os.path.join(KAGGLE_INPUT_PATH, directory)\n",
        "    try:\n",
        "        with urlopen(download_url) as fileres, NamedTemporaryFile() as tfile:\n",
        "            total_length = fileres.headers['content-length']\n",
        "            print(f'Downloading {directory}, {total_length} bytes compressed')\n",
        "            dl = 0\n",
        "            data = fileres.read(CHUNK_SIZE)\n",
        "            while len(data) > 0:\n",
        "                dl += len(data)\n",
        "                tfile.write(data)\n",
        "                done = int(50 * dl / int(total_length))\n",
        "                sys.stdout.write(f\"\\r[{'=' * done}{' ' * (50-done)}] {dl} bytes downloaded\")\n",
        "                sys.stdout.flush()\n",
        "                data = fileres.read(CHUNK_SIZE)\n",
        "            if filename.endswith('.zip'):\n",
        "              with ZipFile(tfile) as zfile:\n",
        "                zfile.extractall(destination_path)\n",
        "            else:\n",
        "              with tarfile.open(tfile.name) as tarfile:\n",
        "                tarfile.extractall(destination_path)\n",
        "            print(f'\\nDownloaded and uncompressed: {directory}')\n",
        "    except HTTPError as e:\n",
        "        print(f'Failed to load (likely expired) {download_url} to path {destination_path}')\n",
        "        continue\n",
        "    except OSError as e:\n",
        "        print(f'Failed to load {download_url} to path {destination_path}')\n",
        "        continue\n",
        "\n",
        "print('Data source import complete.')\n"
      ],
      "metadata": {
        "id": "aQD0l7mlAyhq",
        "outputId": "4384602e-d486-4a25-d8cd-4e8071c73992",
        "colab": {
          "base_uri": "https://localhost:8080/"
        }
      },
      "cell_type": "code",
      "outputs": [
        {
          "output_type": "stream",
          "name": "stdout",
          "text": [
            "Downloading arc-prize-2024, 321553 bytes compressed\n",
            "[==================================================] 321553 bytes downloaded\n",
            "Downloaded and uncompressed: arc-prize-2024\n",
            "Data source import complete.\n"
          ]
        }
      ],
      "execution_count": null
    },
    {
      "cell_type": "markdown",
      "source": [
        "\n",
        "<center>\n",
        "<img src=\"https://i.postimg.cc/26RtyM0s/3221asdf.jpg\" width=1100>\n",
        "</center>"
      ],
      "metadata": {
        "_uuid": "cf2f7c32-eedb-4150-ba46-8eebc9d0ac47",
        "_cell_guid": "70966d68-fb0c-479e-bcf1-8688bc3a6f1e",
        "trusted": true,
        "id": "-uWzZmU_Ayht"
      }
    },
    {
      "cell_type": "markdown",
      "source": [
        "\n",
        "\n",
        "# <div  style=\"color:white; border:lightgreen solid;  font-weight:bold; font-size:120%; text-align:center;padding:12.0px; background:black\">1. OVERVIEW</div>"
      ],
      "metadata": {
        "_uuid": "614678c5-a00d-48b5-922a-3eb86352de45",
        "_cell_guid": "d9464c18-8619-4c87-9e8c-0f5e2cc18851",
        "trusted": true,
        "id": "kOKqsKKTAyhu"
      }
    },
    {
      "cell_type": "markdown",
      "source": [
        "# Goal\n",
        "The objective of this competition is to create an algorithm that is capable of solving abstract reasoning tasks. Critically, these are novel tasks: tasks that the algorithm has never seen before. Hence, **simply memorizing** a set of reasoning templates will **not suffice**.\n",
        "\n",
        "The goal is to construct the output grid(s) corresponding to the test input grid(s), using 2 trials for each test input."
      ],
      "metadata": {
        "_uuid": "7bcf6e66-9149-47c4-8246-cc92cda30061",
        "_cell_guid": "5e43269c-762e-432e-917e-0f20feee82d2",
        "trusted": true,
        "id": "KJ6nHMUBAyhu"
      }
    },
    {
      "cell_type": "markdown",
      "source": [
        "# Data overview"
      ],
      "metadata": {
        "_uuid": "8a44626c-a904-425d-97cb-b25bd69fb6d5",
        "_cell_guid": "cbbe989f-1245-4a14-8c61-dd125202f038",
        "trusted": true,
        "id": "OmSx9q_NAyhu"
      }
    },
    {
      "cell_type": "markdown",
      "source": [
        "\n",
        "\n",
        "\"Constructing the output grid\" involves picking the height and width of the output grid, then filling each cell in the grid with a symbol (integer between 0 and 9, which are visualized as **colors**). **Only exact solutions** (all cells match the expected answer) can be said to be correct."
      ],
      "metadata": {
        "_uuid": "dc3db96f-0764-4f84-9563-df8e6c7a717c",
        "_cell_guid": "493af46e-91b4-453d-8d8a-b864e9f9368c",
        "trusted": true,
        "id": "XDWFfG8yAyhv"
      }
    },
    {
      "cell_type": "markdown",
      "source": [
        "# <div  style=\"color:white; border:lightgreen solid;  font-weight:bold; font-size:120%; text-align:center;padding:12.0px; background:black\">2. DATA LOADING AND PREPARATION</div>"
      ],
      "metadata": {
        "_uuid": "11568205-c890-483c-81a1-71a60f4b4b72",
        "_cell_guid": "c2b926ae-da32-4560-9797-b214977e85ab",
        "trusted": true,
        "id": "lYKW7DVWAyhv"
      }
    },
    {
      "cell_type": "markdown",
      "source": [
        "## Import libraries and define parameters"
      ],
      "metadata": {
        "_uuid": "7d941447-a86e-43c5-aa2e-25c8517910f5",
        "_cell_guid": "88aa9fee-ebd6-4c36-a7c6-7dce839a070e",
        "trusted": true,
        "id": "Bh1spJpAAyhv"
      }
    },
    {
      "cell_type": "code",
      "source": [
        "import pandas as pd\n",
        "import numpy as np\n",
        "\n",
        "import matplotlib.pyplot as plt\n",
        "from   matplotlib import colors\n",
        "import seaborn as sns\n",
        "\n",
        "import json\n",
        "import os\n",
        "from pathlib import Path\n",
        "\n",
        "from subprocess import Popen, PIPE, STDOUT\n",
        "from glob import glob"
      ],
      "metadata": {
        "_uuid": "4808ed27-9ba0-41fb-9efc-6641ffc9d2ff",
        "_cell_guid": "a3349fb2-1fca-494d-9953-b392a299ae26",
        "jupyter": {
          "outputs_hidden": false
        },
        "execution": {
          "iopub.status.busy": "2024-06-18T10:21:23.975861Z",
          "iopub.execute_input": "2024-06-18T10:21:23.976304Z",
          "iopub.status.idle": "2024-06-18T10:21:25.137076Z",
          "shell.execute_reply.started": "2024-06-18T10:21:23.976268Z",
          "shell.execute_reply": "2024-06-18T10:21:25.135828Z"
        },
        "trusted": true,
        "id": "S8IUG_kAAyhv"
      },
      "execution_count": null,
      "outputs": []
    },
    {
      "cell_type": "code",
      "source": [
        "base_path='/kaggle/input/arc-prize-2024/'\n",
        "# Loading JSON data\n",
        "def load_json(file_path):\n",
        "    with open(file_path) as f:\n",
        "        data = json.load(f)\n",
        "    return data"
      ],
      "metadata": {
        "_uuid": "9f1bdeb2-0d22-4ea0-a008-4baaf5455a24",
        "_cell_guid": "2051a6b4-4f29-49ad-b964-384d0a2f7bc5",
        "jupyter": {
          "outputs_hidden": false
        },
        "execution": {
          "iopub.status.busy": "2024-06-18T10:21:25.13928Z",
          "iopub.execute_input": "2024-06-18T10:21:25.139795Z",
          "iopub.status.idle": "2024-06-18T10:21:25.146113Z",
          "shell.execute_reply.started": "2024-06-18T10:21:25.139765Z",
          "shell.execute_reply": "2024-06-18T10:21:25.144609Z"
        },
        "trusted": true,
        "id": "n4oi_j5pAyhw"
      },
      "execution_count": null,
      "outputs": []
    },
    {
      "cell_type": "code",
      "source": [
        "# Reading files\n",
        "training_challenges =  load_json(base_path +'arc-agi_training_challenges.json')\n",
        "training_solutions =   load_json(base_path +'arc-agi_training_solutions.json')\n",
        "evaluation_challenges =load_json(base_path +'arc-agi_evaluation_challenges.json')\n",
        "evaluation_solutions = load_json(base_path +'arc-agi_evaluation_solutions.json')"
      ],
      "metadata": {
        "_uuid": "07817bc0-e14d-47f2-b1c8-ef779dab9e06",
        "_cell_guid": "5c2d49f6-e0d8-45cd-9ff6-3189b51a1f0f",
        "jupyter": {
          "outputs_hidden": false
        },
        "execution": {
          "iopub.status.busy": "2024-06-18T10:21:25.147744Z",
          "iopub.execute_input": "2024-06-18T10:21:25.148208Z",
          "iopub.status.idle": "2024-06-18T10:21:25.554575Z",
          "shell.execute_reply.started": "2024-06-18T10:21:25.148163Z",
          "shell.execute_reply": "2024-06-18T10:21:25.553147Z"
        },
        "trusted": true,
        "id": "zE3pH4jqAyhw"
      },
      "execution_count": null,
      "outputs": []
    },
    {
      "cell_type": "markdown",
      "source": [
        "\n",
        "# <div  style=\"color:white; border:lightgreen solid;  font-weight:bold; font-size:120%; text-align:center;padding:12.0px; background:black\">3. DATA EXPLORATION</div>"
      ],
      "metadata": {
        "_uuid": "f4590549-c99d-4c43-b34b-9d12c5bd7062",
        "_cell_guid": "ece97b94-e630-4845-94b6-90944e839391",
        "trusted": true,
        "id": "zCIi0C3-Ayhw"
      }
    },
    {
      "cell_type": "markdown",
      "source": [
        "All datasets have 400 JSON tasks:"
      ],
      "metadata": {
        "_uuid": "8aa987dc-8f1f-482d-b201-0dda69e15cab",
        "_cell_guid": "a63e3a61-e019-4505-bd9b-4bb5257004f0",
        "trusted": true,
        "id": "AgobZFtoAyhw"
      }
    },
    {
      "cell_type": "code",
      "source": [
        "print(f'Number of training challenges = {len(training_challenges)}')\n",
        "print(f'Number of training solutions = {len(training_solutions)}')\n",
        "print(f'Number of evaluation challenges = {len(evaluation_challenges)}')\n",
        "print(f'Number of evaluation solutions = {len(evaluation_solutions)}')"
      ],
      "metadata": {
        "_uuid": "844a3cf8-0ff6-498c-9d8c-a922d0de6c9b",
        "_cell_guid": "0872eb04-d2ac-4c6e-bd6a-1e377d0e3cdd",
        "jupyter": {
          "outputs_hidden": false
        },
        "execution": {
          "iopub.status.busy": "2024-06-18T10:21:25.557286Z",
          "iopub.execute_input": "2024-06-18T10:21:25.557624Z",
          "iopub.status.idle": "2024-06-18T10:21:25.564916Z",
          "shell.execute_reply.started": "2024-06-18T10:21:25.557595Z",
          "shell.execute_reply": "2024-06-18T10:21:25.563457Z"
        },
        "trusted": true,
        "id": "vOqHokJ0Ayhw",
        "outputId": "5939aec1-a6de-46a7-e493-f34d0d018e09",
        "colab": {
          "base_uri": "https://localhost:8080/"
        }
      },
      "execution_count": null,
      "outputs": [
        {
          "output_type": "stream",
          "name": "stdout",
          "text": [
            "Number of training challenges = 400\n",
            "Number of training solutions = 400\n",
            "Number of evaluation challenges = 400\n",
            "Number of evaluation solutions = 400\n"
          ]
        }
      ]
    },
    {
      "cell_type": "markdown",
      "source": [
        "The names of the first fife \"\"training challenges\" are shown below:"
      ],
      "metadata": {
        "_uuid": "df27dfbd-2c13-48ed-a54a-92ba07077f6a",
        "_cell_guid": "ec508156-c015-4903-8426-2c0c3cd2a44a",
        "trusted": true,
        "id": "NiiAWTkKAyhx"
      }
    },
    {
      "cell_type": "code",
      "source": [
        "for i in range(5):\n",
        "    t=list(training_challenges)[i]\n",
        "    task=training_challenges[t]\n",
        "    print(f'Set #{i}, {t}')"
      ],
      "metadata": {
        "_uuid": "95c9d2a1-97b0-4963-b47f-138b358fc4d4",
        "_cell_guid": "11dad383-61a4-45c3-b254-1b3fe55f88b2",
        "jupyter": {
          "outputs_hidden": false
        },
        "execution": {
          "iopub.status.busy": "2024-06-18T10:21:25.610689Z",
          "iopub.execute_input": "2024-06-18T10:21:25.611059Z",
          "iopub.status.idle": "2024-06-18T10:21:25.623321Z",
          "shell.execute_reply.started": "2024-06-18T10:21:25.611028Z",
          "shell.execute_reply": "2024-06-18T10:21:25.622007Z"
        },
        "trusted": true,
        "id": "fqCROB3VAyhx",
        "outputId": "2fa1728e-b361-443f-afdc-5bc8708b5c85",
        "colab": {
          "base_uri": "https://localhost:8080/"
        }
      },
      "execution_count": null,
      "outputs": [
        {
          "output_type": "stream",
          "name": "stdout",
          "text": [
            "Set #0, 007bbfb7\n",
            "Set #1, 00d62c1b\n",
            "Set #2, 017c7c7b\n",
            "Set #3, 025d127b\n",
            "Set #4, 045e512c\n"
          ]
        }
      ]
    },
    {
      "cell_type": "markdown",
      "source": [
        "In each task, there are **two** dictionary keys, **train** and **test**. We learn the pattern from the train input-output pairs, and then apply the pattern to the test input, to predict an output."
      ],
      "metadata": {
        "_uuid": "2243f621-231a-4e32-a4af-42340393bef1",
        "_cell_guid": "d3cdb160-b186-4123-a10b-398f4ad5518b",
        "trusted": true,
        "id": "xiGxEm44Ayhx"
      }
    },
    {
      "cell_type": "code",
      "source": [
        "task = training_challenges['007bbfb7']\n",
        "print(task.keys())"
      ],
      "metadata": {
        "_uuid": "4759364f-a9d8-4b51-a782-e6fe68778482",
        "_cell_guid": "1a03052f-b07e-45c5-a011-5ee46d88f2cc",
        "jupyter": {
          "outputs_hidden": false
        },
        "execution": {
          "iopub.status.busy": "2024-06-18T10:21:25.62522Z",
          "iopub.execute_input": "2024-06-18T10:21:25.625656Z",
          "iopub.status.idle": "2024-06-18T10:21:25.637358Z",
          "shell.execute_reply.started": "2024-06-18T10:21:25.625617Z",
          "shell.execute_reply": "2024-06-18T10:21:25.635963Z"
        },
        "trusted": true,
        "id": "Nlds2w9JAyhx",
        "outputId": "b7b1f3ee-2795-42ad-9286-0a328a1890ed",
        "colab": {
          "base_uri": "https://localhost:8080/"
        }
      },
      "execution_count": null,
      "outputs": [
        {
          "output_type": "stream",
          "name": "stdout",
          "text": [
            "dict_keys(['test', 'train'])\n"
          ]
        }
      ]
    },
    {
      "cell_type": "markdown",
      "source": [
        "Tasks have multiple train input-output pairs. Most tasks have a single test input-output pair, although some have more than one."
      ],
      "metadata": {
        "_uuid": "63790927-2c2b-46de-99e9-2340e74872ee",
        "_cell_guid": "b647ccbe-0708-45d4-893a-90045cc90738",
        "trusted": true,
        "id": "TVEeg_adAyhx"
      }
    },
    {
      "cell_type": "code",
      "source": [
        "n_train_pairs = len(task['train'])\n",
        "n_test_pairs = len(task['test'])\n",
        "\n",
        "print(f'task contains {n_train_pairs} training pairs')\n",
        "print(f'task contains {n_test_pairs} test pairs')"
      ],
      "metadata": {
        "_uuid": "acce4397-5b54-4139-b786-4dd2bc2a7779",
        "_cell_guid": "37d2b9e6-6838-40cf-86ef-16494deba8f9",
        "jupyter": {
          "outputs_hidden": false
        },
        "execution": {
          "iopub.status.busy": "2024-06-18T10:21:25.642287Z",
          "iopub.execute_input": "2024-06-18T10:21:25.642679Z",
          "iopub.status.idle": "2024-06-18T10:21:25.653448Z",
          "shell.execute_reply.started": "2024-06-18T10:21:25.642649Z",
          "shell.execute_reply": "2024-06-18T10:21:25.652241Z"
        },
        "trusted": true,
        "id": "3gR8oURyAyhy",
        "outputId": "a6a07f1a-9a02-45b1-b4ab-baf21f3d683e",
        "colab": {
          "base_uri": "https://localhost:8080/"
        }
      },
      "execution_count": null,
      "outputs": [
        {
          "output_type": "stream",
          "name": "stdout",
          "text": [
            "task contains 5 training pairs\n",
            "task contains 1 test pairs\n"
          ]
        }
      ]
    },
    {
      "cell_type": "markdown",
      "source": [
        "Dive into the first train input-output pair, we can see the grids are expressed as 2d lists with integers 0-9:"
      ],
      "metadata": {
        "_uuid": "34ec0970-3562-441e-9868-d4fa3e2947fb",
        "_cell_guid": "bbc4ea80-501e-4347-ae10-9c2efec970c8",
        "trusted": true,
        "id": "6XgBz-GGAyhy"
      }
    },
    {
      "cell_type": "code",
      "source": [
        "display(task['train'][0]['input'])\n",
        "display(task['train'][0]['output'])"
      ],
      "metadata": {
        "_uuid": "f7f2e86d-4323-4896-9291-32f5e843d4bb",
        "_cell_guid": "79d74f7d-de26-427a-bae4-784234cd5c92",
        "jupyter": {
          "outputs_hidden": false
        },
        "execution": {
          "iopub.status.busy": "2024-06-18T10:21:25.654985Z",
          "iopub.execute_input": "2024-06-18T10:21:25.655341Z",
          "iopub.status.idle": "2024-06-18T10:21:25.675362Z",
          "shell.execute_reply.started": "2024-06-18T10:21:25.655314Z",
          "shell.execute_reply": "2024-06-18T10:21:25.67369Z"
        },
        "trusted": true,
        "id": "zABoxYD_Ayhy",
        "outputId": "cbb6df7f-b5a3-412d-8266-f82331839bdd",
        "colab": {
          "base_uri": "https://localhost:8080/",
          "height": 191
        }
      },
      "execution_count": null,
      "outputs": [
        {
          "output_type": "display_data",
          "data": {
            "text/plain": [
              "[[0, 7, 7], [7, 7, 7], [0, 7, 7]]"
            ]
          },
          "metadata": {}
        },
        {
          "output_type": "display_data",
          "data": {
            "text/plain": [
              "[[0, 0, 0, 0, 7, 7, 0, 7, 7],\n",
              " [0, 0, 0, 7, 7, 7, 7, 7, 7],\n",
              " [0, 0, 0, 0, 7, 7, 0, 7, 7],\n",
              " [0, 7, 7, 0, 7, 7, 0, 7, 7],\n",
              " [7, 7, 7, 7, 7, 7, 7, 7, 7],\n",
              " [0, 7, 7, 0, 7, 7, 0, 7, 7],\n",
              " [0, 0, 0, 0, 7, 7, 0, 7, 7],\n",
              " [0, 0, 0, 7, 7, 7, 7, 7, 7],\n",
              " [0, 0, 0, 0, 7, 7, 0, 7, 7]]"
            ]
          },
          "metadata": {}
        }
      ]
    },
    {
      "cell_type": "markdown",
      "source": [
        "### Function to plot input/output pairs of a task"
      ],
      "metadata": {
        "_uuid": "edbc4954-07a3-4530-9323-75d1c40abfbe",
        "_cell_guid": "8a241ae7-6da6-4919-bb73-dd6bd509df3d",
        "trusted": true,
        "id": "5IeuVhevAyhy"
      }
    },
    {
      "cell_type": "code",
      "source": [
        "# 0:black, 1:blue, 2:red, 3:greed, 4:yellow, # 5:gray, 6:magenta, 7:orange, 8:sky, 9:brown\n",
        "\n",
        "_cmap = colors.ListedColormap(\n",
        "    ['#000000', '#0074D9','#FF4136','#2ECC40','#FFDC00',\n",
        "     '#AAAAAA', '#F012BE', '#FF851B', '#7FDBFF', '#870C25'])\n",
        "norm = colors.Normalize(vmin=0, vmax=9)\n",
        "\n",
        "plt.figure(figsize=(4, 1), dpi=200)\n",
        "plt.imshow([list(range(10))], cmap=_cmap, norm=norm)\n",
        "plt.xticks(list(range(10)))\n",
        "plt.yticks([])\n",
        "plt.show()"
      ],
      "metadata": {
        "_uuid": "df1160cd-efcf-497a-a7b0-8ae71ac33e4f",
        "_cell_guid": "ea172eca-953a-4a87-b218-105960c713ea",
        "jupyter": {
          "outputs_hidden": false
        },
        "execution": {
          "iopub.status.busy": "2024-06-18T10:21:25.676846Z",
          "iopub.execute_input": "2024-06-18T10:21:25.67724Z",
          "iopub.status.idle": "2024-06-18T10:21:25.889829Z",
          "shell.execute_reply.started": "2024-06-18T10:21:25.677211Z",
          "shell.execute_reply": "2024-06-18T10:21:25.888214Z"
        },
        "trusted": true,
        "id": "awQlPDeFAyhy",
        "outputId": "782557a5-a7e0-4f57-b9a5-89395f83aa47",
        "colab": {
          "base_uri": "https://localhost:8080/",
          "height": 166
        }
      },
      "execution_count": null,
      "outputs": [
        {
          "output_type": "display_data",
          "data": {
            "text/plain": [
              "<Figure size 800x200 with 1 Axes>"
            ],
            "image/png": "[encoded data removed]"
          },
          "metadata": {}
        }
      ]
    },
    {
      "cell_type": "code",
      "source": [
        "def plot_one(ax, i,train_or_test,input_or_output):\n",
        "    cmap = colors.ListedColormap(\n",
        "        ['#000000', '#0074D9','#FF4136','#2ECC40','#FFDC00',\n",
        "         '#AAAAAA', '#F012BE', '#FF851B', '#7FDBFF', '#870C25'])\n",
        "    norm = colors.Normalize(vmin=0, vmax=9)\n",
        "\n",
        "    input_matrix = task[train_or_test][i][input_or_output]\n",
        "    ax.imshow(input_matrix, cmap=cmap, norm=norm)\n",
        "    ax.grid(True,which='both',color='lightgrey', linewidth=0.5)\n",
        "\n",
        "    ax.set_yticks([x-0.5 for x in range(1+len(input_matrix))])\n",
        "    ax.set_xticks([x-0.5 for x in range(1+len(input_matrix[0]))])\n",
        "    ax.set_xticklabels([])\n",
        "    ax.set_yticklabels([])\n",
        "    ax.set_title(train_or_test + ' '+input_or_output)\n",
        "\n",
        "\n",
        "def plot_task(task):\n",
        "    \"\"\"\n",
        "    Plots the first train and test pairs of a specified task,\n",
        "    using same color scheme as the ARC app\n",
        "    \"\"\"\n",
        "    num_train = len(task['train'])\n",
        "    fig, axs = plt.subplots(2, num_train, figsize=(3*num_train,3*2))\n",
        "    for i in range(num_train):\n",
        "        plot_one(axs[0,i],i,'train','input')\n",
        "        plot_one(axs[1,i],i,'train','output')\n",
        "    plt.tight_layout()\n",
        "    plt.show()\n",
        "\n"
      ],
      "metadata": {
        "_uuid": "fbfd7d31-8660-4843-9edb-8b4b1b186f69",
        "_cell_guid": "4e886125-8fb6-4242-a24d-9a5a6ae6fd28",
        "jupyter": {
          "outputs_hidden": false
        },
        "execution": {
          "iopub.status.busy": "2024-06-18T10:21:25.892474Z",
          "iopub.execute_input": "2024-06-18T10:21:25.894349Z",
          "iopub.status.idle": "2024-06-18T10:21:25.91946Z",
          "shell.execute_reply.started": "2024-06-18T10:21:25.894291Z",
          "shell.execute_reply": "2024-06-18T10:21:25.91698Z"
        },
        "trusted": true,
        "id": "g6zZZpg8Ayhy"
      },
      "execution_count": null,
      "outputs": []
    },
    {
      "cell_type": "markdown",
      "source": [
        "# Visualization Training set"
      ],
      "metadata": {
        "_uuid": "51ec1a2b-4d27-484f-8bc0-77a2819908d9",
        "_cell_guid": "75c2a967-e55e-440c-8120-1363a43a4023",
        "trusted": true,
        "id": "zKpaRhzNAyhy"
      }
    },
    {
      "cell_type": "code",
      "source": [
        "for i in range(2):\n",
        "    t=list(training_challenges)[i]\n",
        "    task=training_challenges[t]\n",
        "    print(f'Set #{i}, {t}')\n",
        "    plot_task(task)"
      ],
      "metadata": {
        "_uuid": "8598cf30-b3e0-45cd-ade3-253e54ec6606",
        "_cell_guid": "6abacb10-37f6-480d-87b0-1e956648ed82",
        "jupyter": {
          "outputs_hidden": false
        },
        "execution": {
          "iopub.status.busy": "2024-06-18T10:21:25.922503Z",
          "iopub.execute_input": "2024-06-18T10:21:25.92309Z",
          "iopub.status.idle": "2024-06-18T10:21:32.888317Z",
          "shell.execute_reply.started": "2024-06-18T10:21:25.923038Z",
          "shell.execute_reply": "2024-06-18T10:21:32.886958Z"
        },
        "trusted": true,
        "id": "uxlpPl_KAyhy",
        "outputId": "1a96a48d-54e5-49ae-9758-9da1cb92a2b1",
        "colab": {
          "base_uri": "https://localhost:8080/",
          "height": 1000
        }
      },
      "execution_count": null,
      "outputs": [
        {
          "output_type": "stream",
          "name": "stdout",
          "text": [
            "Set #0, 007bbfb7\n"
          ]
        },
        {
          "output_type": "display_data",
          "data": {
            "text/plain": [
              "<Figure size 1500x600 with 10 Axes>"
            ],
            "image/png": "[encoded data removed]"
          },
          "metadata": {}
        },
        {
          "output_type": "stream",
          "name": "stdout",
          "text": [
            "Set #1, 00d62c1b\n"
          ]
        },
        {
          "output_type": "display_data",
          "data": {
            "text/plain": [
              "<Figure size 1500x600 with 10 Axes>"
            ],
            "image/png": "[encoded data removed]"
          },
          "metadata": {}
        }
      ]
    },
    {
      "cell_type": "markdown",
      "source": [
        "# Visualization Evaluating set"
      ],
      "metadata": {
        "_uuid": "295c3e27-4a1b-46f6-ad85-788383d206be",
        "_cell_guid": "ee0ece5a-bc1f-47c7-8683-9a6d3a0d36c6",
        "trusted": true,
        "id": "dFbJr8_yAyhy"
      }
    },
    {
      "cell_type": "code",
      "source": [
        "for i in range(2):\n",
        "    t=list(evaluation_challenges)[i]\n",
        "    task=evaluation_challenges[t]\n",
        "    print(f'Set #{i}, {t}')\n",
        "    plot_task(task)"
      ],
      "metadata": {
        "_uuid": "312c84ef-7444-40c0-a300-c7f367630fb7",
        "_cell_guid": "de295c96-acf0-4ad5-aff3-5a6459573479",
        "jupyter": {
          "outputs_hidden": false
        },
        "execution": {
          "iopub.status.busy": "2024-06-18T10:21:32.8898Z",
          "iopub.execute_input": "2024-06-18T10:21:32.890136Z",
          "iopub.status.idle": "2024-06-18T10:21:41.222108Z",
          "shell.execute_reply.started": "2024-06-18T10:21:32.890107Z",
          "shell.execute_reply": "2024-06-18T10:21:41.220724Z"
        },
        "trusted": true,
        "id": "QdVTcMSbAyhy",
        "outputId": "4bd14077-6860-4b7e-95ec-8e03555b3c2f",
        "colab": {
          "base_uri": "https://localhost:8080/",
          "height": 1000
        }
      },
      "execution_count": null,
      "outputs": [
        {
          "output_type": "stream",
          "name": "stdout",
          "text": [
            "Set #0, 00576224\n"
          ]
        },
        {
          "output_type": "display_data",
          "data": {
            "text/plain": [
              "<Figure size 600x600 with 4 Axes>"
            ],
            "image/png": "[encoded data removed]"
          },
          "metadata": {}
        },
        {
          "output_type": "stream",
          "name": "stdout",
          "text": [
            "Set #1, 009d5c81\n"
          ]
        },
        {
          "output_type": "display_data",
          "data": {
            "text/plain": [
              "<Figure size 1500x600 with 10 Axes>"
            ],
            "image/png": "[encoded data removed]"
          },
          "metadata": {}
        }
      ]
    },
    {
      "cell_type": "markdown",
      "source": [
        "\n",
        "# <div  style=\"color:white; border:lightgreen solid;  font-weight:bold; font-size:120%; text-align:center;padding:12.0px; background:black\">4. MODELLING</div>"
      ],
      "metadata": {
        "_uuid": "50411be1-aa40-48df-ad4b-017e1330b4f4",
        "_cell_guid": "2307ecff-0115-4883-b51f-e1562f81a3c2",
        "trusted": true,
        "id": "Zb1pAQWZAyhz"
      }
    },
    {
      "cell_type": "code",
      "source": [
        "import numpy as np\n",
        "from matplotlib import colors\n",
        "import matplotlib.pyplot as plt\n",
        "from typing import Literal\n",
        "\n",
        "def create_rgb_array(input_matrix):\n",
        "    cmap = colors.ListedColormap(\n",
        "        ['#000000', '#0074D9','#FF4136','#2ECC40','#FFDC00',\n",
        "         '#AAAAAA', '#F012BE', '#FF851B', '#7FDBFF', '#870C25'])\n",
        "    norm = colors.Normalize(vmin=0, vmax=9)\n",
        "    normed_matrix = norm(input_matrix)\n",
        "    rgb_array = cmap(normed_matrix)\n",
        "    rgb_array = rgb_array[..., :3]\n",
        "    return rgb_array\n",
        "\n",
        "def get_rgb_task(task, kind:Literal['train', 'test']='train'):\n",
        "    num_train = len(task[kind])\n",
        "    train_input_rgb = []\n",
        "    train_output_rgb = []\n",
        "\n",
        "    for i in range(num_train):\n",
        "        input_matrix = task[kind][i]['input']\n",
        "        output_matrix = task[kind][i]['output']\n",
        "\n",
        "        train_input_rgb.append(create_rgb_array(input_matrix))\n",
        "        train_output_rgb.append(create_rgb_array(output_matrix))\n",
        "\n",
        "    return train_input_rgb, train_output_rgb\n",
        "\n",
        "def display_with_matplotlib(rgb_array):\n",
        "    plt.imshow(rgb_array)\n",
        "    plt.axis('off')\n",
        "    plt.show()\n",
        "\n",
        "t = list(training_challenges)[0]\n",
        "task = training_challenges[t]\n",
        "print(f'Set #{0}, {t}')\n",
        "# plot_task(task)\n",
        "train_input_rgb, train_output_rgb = get_rgb_task(task, 'train')\n",
        "display_with_matplotlib(train_input_rgb[0])\n"
      ],
      "metadata": {
        "execution": {
          "iopub.status.busy": "2024-06-18T10:21:41.224526Z",
          "iopub.execute_input": "2024-06-18T10:21:41.224917Z",
          "iopub.status.idle": "2024-06-18T10:21:41.310854Z",
          "shell.execute_reply.started": "2024-06-18T10:21:41.22487Z",
          "shell.execute_reply": "2024-06-18T10:21:41.30968Z"
        },
        "trusted": true,
        "id": "qa9Vso8tAyhz",
        "outputId": "ebb5c382-ec28-476a-f04b-817429f6bb30",
        "colab": {
          "base_uri": "https://localhost:8080/",
          "height": 423
        }
      },
      "execution_count": null,
      "outputs": [
        {
          "output_type": "stream",
          "name": "stdout",
          "text": [
            "Set #0, 007bbfb7\n"
          ]
        },
        {
          "output_type": "display_data",
          "data": {
            "text/plain": [
              "<Figure size 640x480 with 1 Axes>"
            ],
            "image/png": "[encoded data removed]"
          },
          "metadata": {}
        }
      ]
    },
    {
      "cell_type": "code",
      "source": [
        "import numpy as np\n",
        "import torch\n",
        "import torch.nn as nn\n",
        "import bisect\n",
        "from typing import List, Tuple, Literal\n",
        "import matplotlib.pyplot as plt\n",
        "import torch.optim as optim\n",
        "from PIL import Image\n",
        "import matplotlib.colors as colors\n",
        "import pickle\n",
        "import json\n",
        "\n",
        "\n",
        "# Constants for maximum grid dimensions\n",
        "MAX_ROWS, MAX_COLS = 30, 30\n",
        "\n",
        "# Pad the array to the given dimensions\n",
        "def pad_array(array, max_rows=MAX_ROWS, max_cols=MAX_COLS, padding_value=-1.0):\n",
        "    padded_array = np.full((max_rows, max_cols), padding_value)\n",
        "    rows, cols = len(array), len(array[0])\n",
        "    start_row = (max_rows - rows) // 2\n",
        "    start_col = (max_cols - cols) // 2\n",
        "    padded_array[start_row:start_row+rows, start_col:start_col+cols] = array\n",
        "    return padded_array\n",
        "\n",
        "# Get padded RGB arrays for the task\n",
        "def get_padded_rgb_task(task, kind: Literal['train', 'test'] = 'train'):\n",
        "    input_rgb, output_rgb = [], []\n",
        "    for pair in task[kind]:\n",
        "        input_matrix = pad_array(pair['input'])\n",
        "        input_rgb.append(create_rgb_array(input_matrix))\n",
        "        if 'output' in pair:\n",
        "            output_matrix = pad_array(pair['output'])\n",
        "            output_rgb.append(create_rgb_array(output_matrix))\n",
        "        else:\n",
        "            output_rgb.append(None)\n",
        "    return input_rgb, output_rgb\n",
        "\n",
        "\n"
      ],
      "metadata": {
        "execution": {
          "iopub.status.busy": "2024-06-18T10:21:41.312584Z",
          "iopub.execute_input": "2024-06-18T10:21:41.31522Z",
          "iopub.status.idle": "2024-06-18T10:21:44.475704Z",
          "shell.execute_reply.started": "2024-06-18T10:21:41.315179Z",
          "shell.execute_reply": "2024-06-18T10:21:44.474562Z"
        },
        "trusted": true,
        "id": "VwuMB0n1Ayhz"
      },
      "execution_count": null,
      "outputs": []
    },
    {
      "cell_type": "code",
      "source": [
        "# Process and save the dataset with size information\n",
        "def save_dataset_with_sizes(training_challenges, filename):\n",
        "    dataset = {\n",
        "        'train_input_rgb': [],\n",
        "        'train_output_rgb': [],\n",
        "        'test_input_rgb': [],\n",
        "        'train_input_sizes': [],\n",
        "        'train_output_sizes': [],\n",
        "        'test_input_sizes': [],\n",
        "        'labels': []\n",
        "    }\n",
        "\n",
        "    for i in range(len(training_challenges)):\n",
        "        t = list(training_challenges)[i]\n",
        "        task = training_challenges[t]\n",
        "        print(f'Processing Set #{i}, {t}', end='\\r')\n",
        "\n",
        "        # Process training pairs\n",
        "        train_input_rgb, train_output_rgb = get_padded_rgb_task(task, 'train')\n",
        "        for j in range(len(task['train'])):\n",
        "            input_matrix = task['train'][j]['input']\n",
        "            output_matrix = task['train'][j]['output']\n",
        "            dataset['train_input_rgb'].append(train_input_rgb[j])\n",
        "            dataset['train_output_rgb'].append(train_output_rgb[j])\n",
        "            dataset['train_input_sizes'].append((len(input_matrix), len(input_matrix[0])))\n",
        "            dataset['train_output_sizes'].append((len(output_matrix), len(output_matrix[0])))\n",
        "            dataset['labels'].append(t)\n",
        "\n",
        "        # Process test pairs (only inputs)\n",
        "        test_input_rgb, _ = get_padded_rgb_task(task, 'test')\n",
        "        for k in range(len(task['test'])):\n",
        "            input_matrix = task['test'][k]['input']\n",
        "            dataset['test_input_rgb'].append(test_input_rgb[k])\n",
        "            dataset['test_input_sizes'].append((len(input_matrix), len(input_matrix[0])))\n",
        "\n",
        "    # Debug: Verify dataset content\n",
        "    print(f\"\\nTotal valid train samples: {len(dataset['train_input_rgb'])}\")\n",
        "    print(f\"Total valid test samples: {len(dataset['test_input_rgb'])}\")\n",
        "\n",
        "    # Save the dataset to a file using pickle\n",
        "    with open(filename, 'wb') as f:\n",
        "        pickle.dump(dataset, f)\n",
        "\n",
        "    print(f'\\nDataset saved to {filename}')\n",
        "\n",
        "# Example usage\n",
        "save_dataset_with_sizes(training_challenges, 'processed_dataset_with_sizes.pkl')\n",
        "\n"
      ],
      "metadata": {
        "execution": {
          "iopub.status.busy": "2024-06-18T10:21:44.49464Z",
          "iopub.execute_input": "2024-06-18T10:21:44.495008Z",
          "iopub.status.idle": "2024-06-18T10:21:45.936756Z",
          "shell.execute_reply.started": "2024-06-18T10:21:44.494981Z",
          "shell.execute_reply": "2024-06-18T10:21:45.935402Z"
        },
        "trusted": true,
        "id": "u8mNlYHaAyhz",
        "outputId": "f74b2812-9efe-429d-d4c8-fb81e86e6c7f",
        "colab": {
          "base_uri": "https://localhost:8080/"
        }
      },
      "execution_count": null,
      "outputs": [
        {
          "output_type": "stream",
          "name": "stdout",
          "text": [
            "Processing Set #399, ff805c23\n",
            "Total valid train samples: 1301\n",
            "Total valid test samples: 416\n",
            "\n",
            "Dataset saved to processed_dataset_with_sizes.pkl\n"
          ]
        }
      ]
    },
    {
      "cell_type": "code",
      "source": [
        "import torch\n",
        "import numpy as np\n",
        "import pickle\n",
        "\n",
        "# Function to flatten RGB arrays with size information\n",
        "def flatten_rgb_arrays_with_sizes(rgb_arrays, sizes):\n",
        "    flattened_arrays = []\n",
        "    for rgb_array, size in zip(rgb_arrays, sizes):\n",
        "        flattened_array = rgb_array.flatten()\n",
        "        flattened_arrays.append(np.concatenate((flattened_array, np.array(size))))\n",
        "    return np.array(flattened_arrays)\n",
        "\n",
        "# Function to reshape predictions back to 2D\n",
        "def reshape_predictions(predictions, sizes):\n",
        "    reshaped_predictions = []\n",
        "    num_features = predictions.shape[1] - 2  # excluding size information\n",
        "    for i, size in enumerate(sizes):\n",
        "        height, width = size\n",
        "        reshaped_prediction = predictions[i][:num_features].reshape(height, width, 3)\n",
        "        reshaped_predictions.append(reshaped_prediction)\n",
        "    return reshaped_predictions\n",
        "\n",
        "# Function to calculate accuracy\n",
        "def calculate_accuracy(predictions, ground_truth):\n",
        "    correct = 0\n",
        "    for pred, gt in zip(predictions, ground_truth):\n",
        "        if np.array_equal(pred, gt):\n",
        "            correct += 1\n",
        "    accuracy = correct / len(ground_truth)\n",
        "    return accuracy\n",
        "\n",
        "# Load the dataset with size information\n",
        "def load_dataset_with_sizes(filename):\n",
        "    with open(filename, 'rb') as f:\n",
        "        dataset = pickle.load(f)\n",
        "    return dataset\n",
        "\n",
        "# Example usage\n",
        "dataset = load_dataset_with_sizes('processed_dataset_with_sizes.pkl')\n",
        "train_input_rgb = dataset['train_input_rgb']\n",
        "train_output_rgb = dataset['train_output_rgb']\n",
        "test_input_rgb = dataset['test_input_rgb']\n",
        "train_input_sizes = dataset['train_input_sizes']\n",
        "train_output_sizes = dataset['train_output_sizes']\n",
        "test_input_sizes = dataset['test_input_sizes']\n",
        "labels = dataset['labels']\n",
        "\n"
      ],
      "metadata": {
        "execution": {
          "iopub.status.busy": "2024-06-18T10:21:45.938354Z",
          "iopub.execute_input": "2024-06-18T10:21:45.938702Z",
          "iopub.status.idle": "2024-06-18T10:21:45.997195Z",
          "shell.execute_reply.started": "2024-06-18T10:21:45.938673Z",
          "shell.execute_reply": "2024-06-18T10:21:45.995823Z"
        },
        "trusted": true,
        "id": "73EW8u-xAyhz"
      },
      "execution_count": null,
      "outputs": []
    },
    {
      "cell_type": "code",
      "source": [
        "\n",
        "display_with_matplotlib(train_input_rgb[0])\n",
        "\n",
        "# If you want to display the first example of the test set (if it exists)\n",
        "if test_input_rgb and test_input_rgb[0] is not None:\n",
        "    display_with_matplotlib(test_input_rgb[0])\n"
      ],
      "metadata": {
        "execution": {
          "iopub.status.busy": "2024-06-18T10:21:45.998834Z",
          "iopub.execute_input": "2024-06-18T10:21:45.999257Z",
          "iopub.status.idle": "2024-06-18T10:21:46.138675Z",
          "shell.execute_reply.started": "2024-06-18T10:21:45.999224Z",
          "shell.execute_reply": "2024-06-18T10:21:46.137439Z"
        },
        "trusted": true,
        "id": "R6uW4z6rAyh0",
        "outputId": "33288019-9a63-43ec-be35-248510a88bee",
        "colab": {
          "base_uri": "https://localhost:8080/",
          "height": 795
        }
      },
      "execution_count": null,
      "outputs": [
        {
          "output_type": "display_data",
          "data": {
            "text/plain": [
              "<Figure size 640x480 with 1 Axes>"
            ],
            "image/png": "[encoded data removed]"
          },
          "metadata": {}
        },
        {
          "output_type": "display_data",
          "data": {
            "text/plain": [
              "<Figure size 640x480 with 1 Axes>"
            ],
            "image/png": "[encoded data removed]"
          },
          "metadata": {}
        }
      ]
    },
    {
      "cell_type": "code",
      "source": [
        "import torch\n",
        "import torch.nn as nn\n",
        "import torch.optim as optim\n",
        "from torch.optim.lr_scheduler import ExponentialLR\n",
        "import numpy as np\n",
        "import os\n",
        "\n",
        "class SplineActivation(nn.Module):\n",
        "    def __init__(self, num_knots=10, degree=3):\n",
        "        super(SplineActivation, self).__init__()\n",
        "        self.num_knots = num_knots\n",
        "        self.degree = degree\n",
        "        self.x = nn.Parameter(torch.linspace(-1.0, 1.0, num_knots), requires_grad=False)\n",
        "\n",
        "        # Allow y to be updated during training\n",
        "        self.y = nn.Parameter(torch.sin(self.x * 3.14159) + 0.1 * torch.randn(self.num_knots), requires_grad=True)\n",
        "\n",
        "        # Initial computation of coefficients, just for initial debugging\n",
        "        _, self.coefficients = self.compute_spline(self.x, self.y)\n",
        "\n",
        "        self.w = nn.Parameter(torch.tensor(1.0))  # Initialize weight\n",
        "        self.basis_function = nn.SiLU()  # Using SiLU (Swish) as basis function\n",
        "\n",
        "    def compute_spline(self, x, y):\n",
        "        if x.size(0) < 3:\n",
        "            raise ValueError('Too short an array')\n",
        "        if x.size(0) != y.size(0):\n",
        "            raise ValueError('Array lengths are different')\n",
        "\n",
        "        h = x[1:] - x[:-1]\n",
        "        if torch.any(h <= 0):\n",
        "            raise ValueError('X must be strictly increasing')\n",
        "\n",
        "        n = x.size(0)\n",
        "        A, B, C = self.create_tridiagonal_matrix(n, h)\n",
        "        D = self.create_target(n, h, y)\n",
        "        M = self.solve_tridiagonal_system(A, B, C, D)\n",
        "\n",
        "        coefficients = torch.stack([\n",
        "            (M[1:] - M[:-1]) * h**2 / 6,\n",
        "            M[:-1] * h**2 / 2,\n",
        "            (y[1:] - y[:-1] - (M[1:] + 2 * M[:-1]) * h**2 / 6),\n",
        "            y[:-1]\n",
        "        ], dim=1)\n",
        "\n",
        "        return self.spline_function(x, coefficients), coefficients\n",
        "\n",
        "    def create_tridiagonal_matrix(self, n, h):\n",
        "        A = torch.cat((h[:-1] / (h[:-1] + h[1:]), torch.tensor([0.0], device=h.device)))\n",
        "        B = torch.full((n,), 2.0, device=h.device)\n",
        "        C = torch.cat((torch.tensor([0.0], device=h.device), h[1:] / (h[:-1] + h[1:])))\n",
        "        return A, B, C\n",
        "\n",
        "    def create_target(self, n, h, y):\n",
        "        diff_quotients = 6 * ((y[2:] - y[1:-1]) / h[1:] - (y[1:-1] - y[:-2]) / h[:-1]) / (h[:-1] + h[1:])\n",
        "        return torch.cat((torch.tensor([0.0], device=h.device), diff_quotients, torch.tensor([0.0], device=h.device)))\n",
        "\n",
        "    def solve_tridiagonal_system(self, A, B, C, D):\n",
        "        n = B.size(0)\n",
        "        c_p = torch.zeros(n, device=B.device)\n",
        "        d_p = torch.zeros(n, device=B.device)\n",
        "        X = torch.zeros(n, device=B.device)\n",
        "\n",
        "        c_p[0] = C[0] / B[0]\n",
        "        d_p[0] = D[0] / B[0]\n",
        "        for i in range(1, n-1):\n",
        "            denom = B[i] - A[i-1] * c_p[i-1]\n",
        "            c_p[i] = C[i] / denom\n",
        "            d_p[i] = (D[i] - A[i-1] * d_p[i-1]) / denom\n",
        "\n",
        "        X[-1] = d_p[-1]\n",
        "        for i in range(n-2, -1, -1):\n",
        "            X[i] = d_p[i] - c_p[i] * X[i+1]\n",
        "\n",
        "        return X\n",
        "\n",
        "    def spline_function(self, x, coefficients):\n",
        "        def spline(val):\n",
        "            idx = min(bisect.bisect(x.cpu().numpy(), val) - 1, x.size(0) - 2)\n",
        "            z = (val - x[idx].item()) / (x[idx+1].item() - x[idx].item())\n",
        "            C = coefficients[idx]\n",
        "            return (((C[0] * z + C[1]) * z + C[2]) * z + C[3]).item()\n",
        "        return spline\n",
        "\n",
        "    def forward(self, x):\n",
        "        x_clipped = torch.clamp(x, -1, 1)\n",
        "\n",
        "        _, coefficients = self.compute_spline(self.x, self.y)\n",
        "\n",
        "        indices = torch.searchsorted(self.x, x_clipped.detach(), right=True) - 1\n",
        "        indices = torch.clamp(indices, 0, self.num_knots - 2)\n",
        "        idx_x = self.x[indices]\n",
        "        idx_x1 = self.x[indices + 1]\n",
        "        h = idx_x1 - idx_x\n",
        "        z = (x_clipped - idx_x) / h\n",
        "        C = coefficients[indices]\n",
        "\n",
        "        z = z.unsqueeze(-1)\n",
        "        C = C.unsqueeze(2)\n",
        "        y_clipped = (((C[..., 0] * z + C[..., 1]) * z + C[..., 2]) * z + C[..., 3])\n",
        "\n",
        "        return self.w * (self.basis_function(x) + y_clipped.squeeze(-1))\n",
        "\n",
        "class KAN(nn.Module):\n",
        "    def __init__(self, input_dim, hidden_dim, output_dim, kernel_type='spline', num_knots=10):\n",
        "        super(KAN, self).__init__()\n",
        "        self.phi1 = nn.Linear(input_dim, hidden_dim)\n",
        "        self.psi1 = nn.Linear(input_dim, hidden_dim)\n",
        "        self.phi2 = nn.Linear(hidden_dim, hidden_dim)\n",
        "        self.psi2 = nn.Linear(hidden_dim, hidden_dim)\n",
        "        self.phi3 = nn.Linear(hidden_dim, output_dim)\n",
        "        self.psi3 = nn.Linear(hidden_dim, output_dim)\n",
        "        self._he_init()\n",
        "\n",
        "        if kernel_type == 'spline':\n",
        "            self.spline1 = SplineActivation(num_knots)\n",
        "            self.spline2 = SplineActivation(num_knots)\n",
        "            self.spline3 = SplineActivation(num_knots)\n",
        "            self.spline4 = SplineActivation(num_knots)\n",
        "            self.spline5 = SplineActivation(num_knots)\n",
        "            self.spline6 = SplineActivation(num_knots)\n",
        "\n",
        "    # He initialization function\n",
        "    def _he_init(self):\n",
        "        for layer in [self.phi1, self.psi1, self.phi2, self.psi2, self.phi3, self.psi3]:\n",
        "            nn.init.kaiming_normal_(layer.weight)\n",
        "            if layer.bias is not None:\n",
        "                nn.init.constant_(layer.bias, 0)\n",
        "\n",
        "    def forward(self, x):\n",
        "        def apply_activation(act, x):\n",
        "            return act(x)\n",
        "\n",
        "        x1 = apply_activation(self.spline1, self.phi1(x))\n",
        "        x2 = apply_activation(self.spline2, self.psi1(x))\n",
        "        sum_x = x1 + x2\n",
        "        x3 = apply_activation(self.spline3, self.phi2(sum_x))\n",
        "        x4 = apply_activation(self.spline4, self.psi2(sum_x))\n",
        "        sum_x2 = x3 + x4\n",
        "        x5 = apply_activation(self.spline5, self.phi3(sum_x2))\n",
        "        x6 = apply_activation(self.spline6, self.psi3(sum_x2))\n",
        "        output = x5 + x6\n",
        "        return output\n",
        "\n",
        "def train_model(model, X_train, y_train, epochs=200, learning_rate=0.01, save_step=10, save_path=\"model_checkpoints\", device='cpu'):\n",
        "    criterion = nn.MSELoss()\n",
        "    optimizer = optim.Adam(model.parameters(), lr=learning_rate)\n",
        "    scheduler = ExponentialLR(optimizer, gamma=0.975)\n",
        "\n",
        "    loss_list = []\n",
        "\n",
        "    if not os.path.exists(save_path):\n",
        "        os.makedirs(save_path)\n",
        "\n",
        "    model.to(device)\n",
        "    X_train = X_train.to(device)\n",
        "    y_train = y_train.to(device)\n",
        "\n",
        "    epoch = 0\n",
        "    loss = None\n",
        "    for epoch in range(epochs):\n",
        "        model.train()\n",
        "        optimizer.zero_grad()\n",
        "        outputs = model(X_train)\n",
        "        loss = criterion(outputs, y_train)\n",
        "        loss.backward()\n",
        "        optimizer.step()\n",
        "\n",
        "        loss_list.append(loss.item())\n",
        "        if (epoch + 1) % save_step == 0:\n",
        "            scheduler.step()\n",
        "\n",
        "            torch.save(model.state_dict(), os.path.join(save_path, f\"model_epoch_{epoch + 1}.pth\"))\n",
        "            print(f\"Epoch [{epoch + 1}/{epochs}], Loss: {loss.item():.4f}, Model saved.\")\n",
        "\n",
        "    if epoch > 0 and loss:\n",
        "      print(f\"Training complete! Epoch [{epoch+1}/{epochs}], Loss: {loss.item():.4f}\")\n",
        "    return model, loss_list"
      ],
      "metadata": {
        "execution": {
          "iopub.status.busy": "2024-06-18T10:21:46.140922Z",
          "iopub.execute_input": "2024-06-18T10:21:46.141668Z",
          "iopub.status.idle": "2024-06-18T10:21:46.194517Z",
          "shell.execute_reply.started": "2024-06-18T10:21:46.141626Z",
          "shell.execute_reply": "2024-06-18T10:21:46.19317Z"
        },
        "trusted": true,
        "id": "630q2OzbAyh3"
      },
      "execution_count": null,
      "outputs": []
    },
    {
      "cell_type": "code",
      "source": [
        "# Set global seed for reproducibility\n",
        "def set_seed(seed):\n",
        "    torch.manual_seed(seed)\n",
        "    torch.cuda.manual_seed_all(seed)\n",
        "    np.random.seed(seed)\n",
        "    torch.backends.cudnn.deterministic = True\n",
        "    torch.backends.cudnn.benchmark = False\n",
        "\n",
        "set_seed(42)"
      ],
      "metadata": {
        "id": "p-WmoRDADPWq"
      },
      "execution_count": null,
      "outputs": []
    },
    {
      "cell_type": "code",
      "source": [
        "# Usage for GPU/CPU\n",
        "# Choose the device based on availability\n",
        "device = torch.device('cuda' if torch.cuda.is_available() else 'cpu')\n"
      ],
      "metadata": {
        "id": "YHm0oFntDV0R"
      },
      "execution_count": null,
      "outputs": []
    },
    {
      "cell_type": "code",
      "source": [
        "\n",
        "# Flatten the train data\n",
        "train_input_rgb_flat = flatten_rgb_arrays_with_sizes(train_input_rgb, train_input_sizes)\n",
        "train_output_rgb_flat = flatten_rgb_arrays_with_sizes(train_output_rgb, train_output_sizes)\n",
        "\n",
        "X_train = torch.FloatTensor(train_input_rgb_flat)\n",
        "y_train = torch.FloatTensor(train_output_rgb_flat)\n",
        "\n",
        "input_dim = X_train.shape[1]\n",
        "output_dim = y_train.shape[1]\n",
        "hidden_dim = (input_dim + output_dim)//60\n",
        "\n",
        "num_knots = 30\n",
        "epochs = 2000\n",
        "learning_rate = 0.01\n",
        "save_step = 10\n",
        "save_path = f\"k{num_knots}_id{input_dim}_hd{hidden_dim}_od{output_dim}_model_checkpoints\"\n",
        "print(f'Saving model to {save_path}')\n",
        "\n",
        "kan_model = KAN(input_dim, hidden_dim, output_dim, kernel_type='spline', num_knots=num_knots)\n",
        "trained_model, loss_list = train_model(kan_model, X_train, y_train, epochs=epochs, learning_rate=learning_rate, save_step=save_step, save_path=save_path, device=device)\n"
      ],
      "metadata": {
        "execution": {
          "iopub.status.busy": "2024-06-18T05:58:35.116683Z",
          "iopub.execute_input": "2024-06-18T05:58:35.117798Z",
          "iopub.status.idle": "2024-06-18T06:28:21.951464Z",
          "shell.execute_reply.started": "2024-06-18T05:58:35.117761Z",
          "shell.execute_reply": "2024-06-18T06:28:21.949816Z"
        },
        "trusted": true,
        "id": "Pp9Hol45Ayh3"
      },
      "execution_count": null,
      "outputs": []
    },
    {
      "cell_type": "code",
      "source": [],
      "metadata": {
        "id": "6o7PsFM1Ayh4"
      },
      "execution_count": null,
      "outputs": []
    },
    {
      "cell_type": "code",
      "source": [
        "import torch\n",
        "import numpy as np\n",
        "\n",
        "# Function to reshape predictions back to 2D\n",
        "def reshape_predictions(predictions, sizes):\n",
        "    reshaped_predictions = []\n",
        "    num_features = predictions.shape[1] - 2  # excluding size information\n",
        "    for i, size in enumerate(sizes):\n",
        "        height, width = size\n",
        "        reshaped_prediction = predictions[i][:num_features].reshape(height, width, 3)\n",
        "        reshaped_predictions.append(reshaped_prediction)\n",
        "    return reshaped_predictions\n",
        "\n",
        "# Function to calculate accuracy\n",
        "def calculate_accuracy(predictions, ground_truth):\n",
        "    correct = 0\n",
        "    for pred, gt in zip(predictions, ground_truth):\n",
        "        if np.array_equal(pred, gt):\n",
        "            correct += 1\n",
        "    accuracy = correct / len(ground_truth)\n",
        "    return accuracy\n",
        "\n",
        "# Function to load and evaluate the model\n",
        "def evaluate_model(model, X_test, y_test, test_output_sizes, device='cpu'):\n",
        "    model.to(device)\n",
        "    X_test = X_test.to(device)\n",
        "    y_test = y_test.to(device)\n",
        "\n",
        "    with torch.no_grad():\n",
        "        outputs = model(X_test)\n",
        "\n",
        "    reshaped_predictions = reshape_predictions(outputs.cpu().numpy(), test_output_sizes)\n",
        "    reshaped_ground_truth = reshape_predictions(y_test.cpu().numpy(), test_output_sizes)\n",
        "\n",
        "    accuracy = calculate_accuracy(reshaped_predictions, reshaped_ground_truth)\n",
        "    print(f'Accuracy: {accuracy:.4f}')\n",
        "    return accuracy\n",
        "\n",
        "test_input_rgb = dataset['train_input_rgb']\n",
        "test_output_rgb = dataset['train_output_rgb']\n",
        "test_input_sizes = dataset['train_input_sizes']\n",
        "test_output_sizes = dataset['train_output_sizes']\n",
        "\n",
        "test_input_rgb_flat = flatten_rgb_arrays_with_sizes(test_input_rgb, test_input_sizes)\n",
        "test_output_rgb_flat = flatten_rgb_arrays_with_sizes(test_output_rgb, test_output_sizes)\n",
        "\n",
        "X_test = torch.FloatTensor(test_input_rgb_flat)\n",
        "y_test = torch.FloatTensor(test_output_rgb_flat)\n",
        "\n",
        "# Load the trained model\n",
        "trained_model = KAN(input_dim, hidden_dim, output_dim, kernel_type='spline', num_knots=num_knots)\n",
        "trained_model.load_state_dict(torch.load('model_checkpoints/model_epoch_2000.pth'))\n",
        "\n",
        "# Evaluate the model\n",
        "evaluate_model(trained_model, X_test, y_test, test_output_sizes, device=device)\n"
      ],
      "metadata": {
        "id": "n3EBHvfUAyh4"
      },
      "execution_count": null,
      "outputs": []
    },
    {
      "cell_type": "code",
      "source": [],
      "metadata": {
        "id": "nNBdfW5EAyh4"
      },
      "execution_count": null,
      "outputs": []
    },
    {
      "cell_type": "code",
      "source": [
        "import torch\n",
        "import numpy as np\n",
        "\n",
        "# Function to reshape predictions back to 2D\n",
        "def reshape_predictions(predictions, sizes):\n",
        "    reshaped_predictions = []\n",
        "    num_features = predictions.shape[1] - 2  # excluding size information\n",
        "    for i, size in enumerate(sizes):\n",
        "        height, width = size\n",
        "        reshaped_prediction = predictions[i][:num_features].reshape(height, width, 3)\n",
        "        reshaped_predictions.append(reshaped_prediction)\n",
        "    return reshaped_predictions\n",
        "\n",
        "# Function to calculate accuracy\n",
        "def calculate_accuracy(predictions, ground_truth):\n",
        "    correct = 0\n",
        "    for pred, gt in zip(predictions, ground_truth):\n",
        "        if np.array_equal(pred, gt):\n",
        "            correct += 1\n",
        "    accuracy = correct / len(ground_truth)\n",
        "    return accuracy\n",
        "\n",
        "# Function to load and evaluate the model\n",
        "def evaluate_model(model, X_test, y_test, test_output_sizes, device='cpu'):\n",
        "    model.to(device)\n",
        "    X_test = X_test.to(device)\n",
        "    y_test = y_test.to(device)\n",
        "\n",
        "    with torch.no_grad():\n",
        "        outputs = model(X_test)\n",
        "\n",
        "    reshaped_predictions = reshape_predictions(outputs.cpu().numpy(), test_output_sizes)\n",
        "    reshaped_ground_truth = reshape_predictions(y_test.cpu().numpy(), test_output_sizes)\n",
        "\n",
        "    accuracy = calculate_accuracy(reshaped_predictions, reshaped_ground_truth)\n",
        "    print(f'Accuracy: {accuracy:.4f}')\n",
        "    return accuracy\n",
        "\n",
        "# Example usage for evaluation\n",
        "dataset = load_dataset_with_sizes('processed_dataset_with_sizes.pkl')\n",
        "test_input_rgb = dataset['test_input_rgb']\n",
        "test_output_rgb = dataset['test_output_rgb']\n",
        "test_input_sizes = dataset['test_input_sizes']\n",
        "test_output_sizes = dataset['test_output_sizes']\n",
        "\n",
        "test_input_rgb_flat = flatten_rgb_arrays_with_sizes(test_input_rgb, test_input_sizes)\n",
        "test_output_rgb_flat = flatten_rgb_arrays_with_sizes(test_output_rgb, test_output_sizes)\n",
        "\n",
        "X_test = torch.FloatTensor(test_input_rgb_flat)\n",
        "y_test = torch.FloatTensor(test_output_rgb_flat)\n",
        "\n",
        "# Load the trained model\n",
        "trained_model = KAN(input_dim, hidden_dim, output_dim, kernel_type='spline', num_knots=num_knots)\n",
        "trained_model.load_state_dict(torch.load('model_checkpoints/model_epoch_2000.pth'))\n",
        "\n",
        "# Evaluate the model\n",
        "evaluate_model(trained_model, X_test, y_test, test_output_sizes, device=device)\n"
      ],
      "metadata": {
        "id": "u3vT9GB2Ayh4"
      },
      "execution_count": null,
      "outputs": []
    },
    {
      "cell_type": "code",
      "source": [],
      "metadata": {
        "execution": {
          "iopub.status.busy": "2024-06-18T03:05:09.539798Z",
          "iopub.execute_input": "2024-06-18T03:05:09.540323Z",
          "iopub.status.idle": "2024-06-18T03:05:09.547564Z",
          "shell.execute_reply.started": "2024-06-18T03:05:09.540286Z",
          "shell.execute_reply": "2024-06-18T03:05:09.545794Z"
        },
        "trusted": true,
        "id": "PD2alp2dAyh4"
      },
      "execution_count": null,
      "outputs": []
    },
    {
      "cell_type": "code",
      "source": [
        "def resume_training(model, optimizer, X_train, y_train, start_epoch, end_epoch=2000, learning_rate=0.01, save_step=100, save_path=\"model_checkpoints\", device='cpu'):\n",
        "    criterion = nn.MSELoss()\n",
        "    loss_list = []\n",
        "\n",
        "    model.to(device)\n",
        "    X_train = X_train.to(device)\n",
        "    y_train = y_train.to(device)\n",
        "\n",
        "    for epoch in range(start_epoch, end_epoch):\n",
        "        model.train()\n",
        "        optimizer.zero_grad()\n",
        "        outputs = model(X_train)\n",
        "        loss = criterion(outputs, y_train)\n",
        "        loss.backward()\n",
        "        optimizer.step()\n",
        "\n",
        "        loss_list.append(loss.item())\n",
        "        if (epoch + 1) % save_step == 0:\n",
        "            torch.save(model.state_dict(), os.path.join(save_path, f\"model_epoch_{epoch + 1}.pth\"))\n",
        "            torch.save(optimizer.state_dict(), os.path.join(save_path, f\"optimizer_epoch_{epoch + 1}.pth\"))\n",
        "            print(f\"Epoch [{epoch + 1}/{end_epoch}], Loss: {loss.item():.4f}, Model saved.\")\n",
        "\n",
        "    print(f\"Training complete! Epoch [{end_epoch}], Loss: {loss.item():.4f}\")\n",
        "    return model, loss_list\n",
        "\n",
        "# Example usage for resuming training\n",
        "trained_model = KAN(input_dim, hidden_dim, output_dim, kernel_type='spline', num_knots=num_knots)\n",
        "trained_model.load_state_dict(torch.load('model_checkpoints/model_epoch_1000.pth'))\n",
        "\n",
        "optimizer = optim.Adam(trained_model.parameters(), lr=learning_rate)\n",
        "optimizer.load_state_dict(torch.load('model_checkpoints/optimizer_epoch_1000.pth'))\n",
        "\n",
        "start_epoch = 1000\n",
        "end_epoch = 3000  # Continue training for 2000 more epochs\n",
        "\n",
        "trained_model, loss_list = resume_training(trained_model, optimizer, X_train, y_train, start_epoch, end_epoch, learning_rate, save_step, save_path, device=device)\n"
      ],
      "metadata": {
        "id": "_NM4EmqeAyh5"
      },
      "execution_count": null,
      "outputs": []
    },
    {
      "cell_type": "code",
      "source": [],
      "metadata": {
        "id": "ZGA1xNNoAyh5"
      },
      "execution_count": null,
      "outputs": []
    },
    {
      "cell_type": "code",
      "source": [
        "# Save the entire model\n",
        "torch.save(trained_model, 'kan_model.pth')\n",
        "print('Model saved to kan_model.pth')"
      ],
      "metadata": {
        "execution": {
          "iopub.status.busy": "2024-06-18T04:00:39.457765Z",
          "iopub.execute_input": "2024-06-18T04:00:39.458621Z",
          "iopub.status.idle": "2024-06-18T04:00:40.396878Z",
          "shell.execute_reply.started": "2024-06-18T04:00:39.458587Z",
          "shell.execute_reply": "2024-06-18T04:00:40.395805Z"
        },
        "trusted": true,
        "id": "LVqqfJkIAyh5"
      },
      "execution_count": null,
      "outputs": []
    },
    {
      "cell_type": "code",
      "source": [
        "# Load the entire model\n",
        "loaded_model = torch.load('kan_model.pth')\n",
        "loaded_model.eval()  # Set the model to evaluation mode\n",
        "print('Model loaded from kan_model.pth')\n"
      ],
      "metadata": {
        "execution": {
          "iopub.status.busy": "2024-06-18T04:00:46.7422Z",
          "iopub.execute_input": "2024-06-18T04:00:46.742544Z",
          "iopub.status.idle": "2024-06-18T04:00:47.130455Z",
          "shell.execute_reply.started": "2024-06-18T04:00:46.742513Z",
          "shell.execute_reply": "2024-06-18T04:00:47.12939Z"
        },
        "trusted": true,
        "id": "ejkN3hKkAyh5"
      },
      "execution_count": null,
      "outputs": []
    }
  ]
}